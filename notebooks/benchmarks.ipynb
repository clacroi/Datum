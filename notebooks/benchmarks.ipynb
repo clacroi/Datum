{
 "cells": [
  {
   "cell_type": "markdown",
   "metadata": {},
   "source": [
    "# Datum benchmarks\n",
    "\n",
    "The aim of this notebook is to compare execution time between Datum and Pandas for simple tasks :\n",
    "* querying Datum dataset elements / Pandas Dataframe rows\n",
    "* adding/removing elements/rows to Datum dataset / Pandas Dataframe\n",
    "* modifying elements/rows from Datum dataset / Pandas Dataframe\n",
    "* modifying attributes/column values from all Datum dataset elements / all Pandas Dataframe rows\n",
    "* iterating over Datum dataset entries + observables  / Pandas Dataframe rows (+ rows for corresponding observables)"
   ]
  },
  {
   "cell_type": "code",
   "execution_count": 2,
   "metadata": {},
   "outputs": [],
   "source": [
    "import sys, os\n",
    "import random\n",
    "from pathlib import Path\n",
    "\n",
    "import numpy as np\n",
    "\n",
    "from datum.datasets import Entry, Observable, Dataset\n",
    "from datum.readers import VocDetectionReader, CocoDetectionReader, ObsAttributeConstructor\n",
    "from datum.formatters import VocDetectionFormatter\n",
    "from datum.transformers import EntryMapper, ObservableMapper, AttributesTransformer"
   ]
  },
  {
   "cell_type": "code",
   "execution_count": 3,
   "metadata": {},
   "outputs": [
    {
     "name": "stderr",
     "output_type": "stream",
     "text": [
      "100%|██████████| 5000/5000 [00:00<00:00, 35543.74it/s]\n",
      "100%|██████████| 36781/36781 [00:00<00:00, 73550.85it/s]\n"
     ]
    }
   ],
   "source": [
    "def get_coco_dataset_entries_obs():\n",
    "    root_dir = Path('/home/clacroix/databases/coco/')\n",
    "    reader = CocoDetectionReader(root_dir, 'jpg')\n",
    "    coco_val = Dataset()\n",
    "    reader.feed(coco_val, sets=['val2017'])\n",
    "    entries = coco_val.entries_df\n",
    "    observables = coco_val.observables_df\n",
    "\n",
    "    return coco_val, entries, observables\n",
    "\n",
    "dataset, entries, observables = get_coco_dataset_entries_obs()"
   ]
  },
  {
   "cell_type": "markdown",
   "metadata": {},
   "source": [
    "## Task 1 : individual dataset entry vs Pandas Dataframe row querying\n",
    "\n",
    "- query 100k random entries + associated observables from dataset : 264ms\n",
    "- query 100k rows (corresponding to entries attributes only) from Dataframe : 13.8s"
   ]
  },
  {
   "cell_type": "code",
   "execution_count": 4,
   "metadata": {},
   "outputs": [
    {
     "name": "stderr",
     "output_type": "stream",
     "text": [
      "100%|██████████| 5000/5000 [00:00<00:00, 31057.05it/s]\n",
      "100%|██████████| 36781/36781 [00:00<00:00, 79898.81it/s]\n"
     ]
    }
   ],
   "source": [
    "dataset, entries, observables = get_coco_dataset_entries_obs()"
   ]
  },
  {
   "cell_type": "code",
   "execution_count": 5,
   "metadata": {},
   "outputs": [
    {
     "name": "stdout",
     "output_type": "stream",
     "text": [
      "CPU times: user 69.5 ms, sys: 135 µs, total: 69.7 ms\n",
      "Wall time: 68.6 ms\n"
     ]
    }
   ],
   "source": [
    "%%time\n",
    "def query_entries(dataset, k=100):\n",
    "    l = len(dataset)\n",
    "    for k in range(k):\n",
    "        idx = random.randint(0, l-1)\n",
    "        entry, observables = dataset[idx]\n",
    "query_entries(dataset, k=10000)"
   ]
  },
  {
   "cell_type": "code",
   "execution_count": 6,
   "metadata": {},
   "outputs": [
    {
     "name": "stdout",
     "output_type": "stream",
     "text": [
      "CPU times: user 1.4 s, sys: 0 ns, total: 1.4 s\n",
      "Wall time: 1.39 s\n"
     ]
    }
   ],
   "source": [
    "%%time\n",
    "def query_rows(df, k=100):\n",
    "    l = len(df.index)\n",
    "    for k in range(k):\n",
    "        idx = random.randint(0, l-1)\n",
    "        entry = entries.iloc[idx]\n",
    "query_rows(entries, k=10000)"
   ]
  },
  {
   "cell_type": "markdown",
   "metadata": {},
   "source": [
    "## Task2 : individual dataset entries adding/removal vs. Pandas Dataframe row removal/adding\n",
    "\n",
    "- add 1000 entries to dataset with 2367 entries : 7.32ms\n",
    "- add 1000 rows to dataframe with 2367 rows (without memory preallocation) : 3.72s"
   ]
  },
  {
   "cell_type": "code",
   "execution_count": 7,
   "metadata": {},
   "outputs": [
    {
     "name": "stderr",
     "output_type": "stream",
     "text": [
      "100%|██████████| 5000/5000 [00:00<00:00, 59434.16it/s]\n",
      "100%|██████████| 36781/36781 [00:00<00:00, 80780.74it/s]\n"
     ]
    }
   ],
   "source": [
    "dataset, entries, observables = get_coco_dataset_entries_obs()"
   ]
  },
  {
   "cell_type": "code",
   "execution_count": 8,
   "metadata": {},
   "outputs": [
    {
     "name": "stdout",
     "output_type": "stream",
     "text": [
      "CPU times: user 1.75 ms, sys: 119 µs, total: 1.87 ms\n",
      "Wall time: 2.57 ms\n"
     ]
    }
   ],
   "source": [
    "%%time\n",
    "def add_entries(dataset, k=100000):\n",
    "    for k in range(k):\n",
    "        idx = dataset.add_entry({'name': 'foo_' + str(k), 'filename':'foo.jpg', 'dir': 'bar', 'set':'train',\n",
    "                                 'width': 1280, 'height': 720})\n",
    "entry = {'filename':'foo', 'dir': 'bar', 'set':'train'}\n",
    "add_entries(dataset, k=100)"
   ]
  },
  {
   "cell_type": "code",
   "execution_count": 9,
   "metadata": {},
   "outputs": [
    {
     "name": "stdout",
     "output_type": "stream",
     "text": [
      "CPU times: user 744 ms, sys: 0 ns, total: 744 ms\n",
      "Wall time: 753 ms\n"
     ]
    }
   ],
   "source": [
    "%%time\n",
    "def add_rows(k=100):\n",
    "    l = len(entries.index)\n",
    "    for k in range(k):\n",
    "        entries.loc[l+k] = ['foo', 'foo.jpg', 'bar', 1280, 720, 3, 'train', 42, []]\n",
    "add_rows(k=100)"
   ]
  },
  {
   "cell_type": "markdown",
   "metadata": {},
   "source": [
    "## Task 3 : individual dataset entries modifications vs. Pandas Dataframe individual row modification\n",
    "\n",
    "- Modify 1 attribute from 10k random entries from dataset : 27.8ms\n",
    "- Modify 1 column value from 10k random rows from dataframe : 4.46s"
   ]
  },
  {
   "cell_type": "code",
   "execution_count": 10,
   "metadata": {},
   "outputs": [
    {
     "name": "stderr",
     "output_type": "stream",
     "text": [
      "100%|██████████| 5000/5000 [00:00<00:00, 57251.21it/s]\n",
      "100%|██████████| 36781/36781 [00:00<00:00, 70189.82it/s]\n"
     ]
    }
   ],
   "source": [
    "dataset, entries, observables = get_coco_dataset_entries_obs()"
   ]
  },
  {
   "cell_type": "code",
   "execution_count": 11,
   "metadata": {},
   "outputs": [
    {
     "name": "stdout",
     "output_type": "stream",
     "text": [
      "CPU times: user 12.6 ms, sys: 29 µs, total: 12.6 ms\n",
      "Wall time: 12.7 ms\n"
     ]
    }
   ],
   "source": [
    "%%time\n",
    "def modify_entries(dataset, k=1000):\n",
    "    l = len(dataset)\n",
    "    for k in range(k):\n",
    "        idx = random.randint(0, l-1)\n",
    "        dataset.update_entry_data(idx, {'filename': 'foo.jpg'})\n",
    "modify_entries(dataset, k=1000)"
   ]
  },
  {
   "cell_type": "code",
   "execution_count": 12,
   "metadata": {},
   "outputs": [
    {
     "name": "stdout",
     "output_type": "stream",
     "text": [
      "CPU times: user 388 ms, sys: 31 µs, total: 388 ms\n",
      "Wall time: 385 ms\n"
     ]
    }
   ],
   "source": [
    "%%time\n",
    "def modify_rows(df, k=100):\n",
    "    l = len(df.index)\n",
    "    for k in range(k):\n",
    "        idx = random.randint(0, l-1)\n",
    "        entries.loc[idx, 'filename'] = 'foo.jpg'\n",
    "modify_rows(entries, k=1000)"
   ]
  },
  {
   "cell_type": "code",
   "execution_count": 13,
   "metadata": {},
   "outputs": [
    {
     "name": "stdout",
     "output_type": "stream",
     "text": [
      "CPU times: user 68.6 ms, sys: 3.83 ms, total: 72.5 ms\n",
      "Wall time: 72 ms\n"
     ]
    }
   ],
   "source": [
    "%%time\n",
    "def update_filename(row, idx):\n",
    "    if row['idx'] == idx:\n",
    "        return 'foo.jpg'\n",
    "    else:\n",
    "        return row['filename']\n",
    "\n",
    "def modify_rows_apply(df, k=100):\n",
    "    l = len(df.index)\n",
    "    for k in range(k):\n",
    "        idx = random.randint(0, l-1)\n",
    "        entries.apply(lambda row: update_filename(row, idx), axis=1)\n",
    "modify_rows_apply(entries, k=1)"
   ]
  },
  {
   "cell_type": "markdown",
   "metadata": {},
   "source": [
    "## Task 4  + task 5: modify 1 attribute for all entries and observables of a dataset vs. 1 column value from all rows in a dataset\n",
    "\n",
    "- Modifying all entries from COCO (118k images) : 840ms\n",
    "- Modifying all observables from COCO (860k objects) : 4.13s\n",
    "\n",
    "- Modifying all entries from COCO (118k images) : 840ms"
   ]
  },
  {
   "cell_type": "code",
   "execution_count": 14,
   "metadata": {},
   "outputs": [
    {
     "name": "stderr",
     "output_type": "stream",
     "text": [
      "100%|██████████| 5000/5000 [00:00<00:00, 30545.13it/s]\n",
      "100%|██████████| 36781/36781 [00:00<00:00, 76590.56it/s]\n"
     ]
    }
   ],
   "source": [
    "dataset, entries, observables = get_coco_dataset_entries_obs()"
   ]
  },
  {
   "cell_type": "code",
   "execution_count": 15,
   "metadata": {},
   "outputs": [
    {
     "name": "stdout",
     "output_type": "stream",
     "text": [
      "CPU times: user 41.9 ms, sys: 0 ns, total: 41.9 ms\n",
      "Wall time: 41.4 ms\n"
     ]
    }
   ],
   "source": [
    "%%time\n",
    "upper = EntryMapper(['filename'], ['filename'], lambda f: f.upper())\n",
    "transformer = AttributesTransformer(entries_mappers=[upper])\n",
    "transformer.transform(dataset)"
   ]
  },
  {
   "cell_type": "code",
   "execution_count": 16,
   "metadata": {},
   "outputs": [
    {
     "name": "stdout",
     "output_type": "stream",
     "text": [
      "CPU times: user 252 ms, sys: 0 ns, total: 252 ms\n",
      "Wall time: 251 ms\n"
     ]
    }
   ],
   "source": [
    "%%time\n",
    "expand_xmin = ObservableMapper(['xmin'], ['xmin'], lambda x: x-1)\n",
    "transformer = AttributesTransformer(observables_mappers=[expand_xmin])\n",
    "transformer.transform(dataset)"
   ]
  },
  {
   "cell_type": "code",
   "execution_count": 17,
   "metadata": {},
   "outputs": [
    {
     "name": "stdout",
     "output_type": "stream",
     "text": [
      "CPU times: user 6.5 ms, sys: 0 ns, total: 6.5 ms\n",
      "Wall time: 6.44 ms\n"
     ]
    }
   ],
   "source": [
    "%%time\n",
    "entries['filename'] = entries['filename'].apply(lambda f: f.upper())"
   ]
  },
  {
   "cell_type": "code",
   "execution_count": 18,
   "metadata": {},
   "outputs": [
    {
     "name": "stdout",
     "output_type": "stream",
     "text": [
      "CPU times: user 28.9 ms, sys: 161 µs, total: 29.1 ms\n",
      "Wall time: 28.2 ms\n"
     ]
    }
   ],
   "source": [
    "%%time\n",
    "observables['xmin'] = observables['xmin'].apply(lambda x: x-1)"
   ]
  },
  {
   "cell_type": "markdown",
   "metadata": {},
   "source": [
    "## Task 5 : iteration over dataset entries + observables vs. iteration over Dataframe rows"
   ]
  },
  {
   "cell_type": "markdown",
   "metadata": {},
   "source": [
    "* Iterate 100 times over same dataset with 2468 entries : 22.9ms\n",
    "* at each iteration, entry data and its corresponding observables data are available\n",
    "\n",
    "\n",
    "* Iterate 100 times over rows from Dataframe with itertuples() : 33.7ms\n",
    "* N.B : at each iteration, only entry data is available\n",
    "\n",
    "\n",
    "* Iterate 100 times over rows from Dataframe with itertuples() : 8.76s\n",
    "* at each iteration,  entry data and its corresponding observables data are available\n",
    "\n",
    "\n",
    "* Iterate 100 times over rows from Dataframe with itertuples() : 1.96s\n",
    "* at each iteration, only entry data is available"
   ]
  },
  {
   "cell_type": "code",
   "execution_count": 19,
   "metadata": {},
   "outputs": [
    {
     "name": "stderr",
     "output_type": "stream",
     "text": [
      "100%|██████████| 5000/5000 [00:00<00:00, 56538.29it/s]\n",
      "100%|██████████| 36781/36781 [00:00<00:00, 81131.86it/s]\n"
     ]
    }
   ],
   "source": [
    "dataset, entries, observables = get_coco_dataset_entries_obs()"
   ]
  },
  {
   "cell_type": "code",
   "execution_count": 20,
   "metadata": {},
   "outputs": [
    {
     "name": "stdout",
     "output_type": "stream",
     "text": [
      "CPU times: user 24.7 ms, sys: 4.04 ms, total: 28.7 ms\n",
      "Wall time: 28.8 ms\n"
     ]
    }
   ],
   "source": [
    "%%time\n",
    "n = 1\n",
    "for k in range(n):\n",
    "    for entry, obs in dataset:\n",
    "        filename = entry['filename']"
   ]
  },
  {
   "cell_type": "code",
   "execution_count": 21,
   "metadata": {},
   "outputs": [
    {
     "name": "stdout",
     "output_type": "stream",
     "text": [
      "CPU times: user 27.2 ms, sys: 0 ns, total: 27.2 ms\n",
      "Wall time: 26.3 ms\n"
     ]
    }
   ],
   "source": [
    "%%time\n",
    "n = 1\n",
    "for k in range(n):\n",
    "    for e in entries.itertuples():\n",
    "        filename = e[1]"
   ]
  },
  {
   "cell_type": "code",
   "execution_count": 22,
   "metadata": {},
   "outputs": [
    {
     "name": "stdout",
     "output_type": "stream",
     "text": [
      "CPU times: user 1.71 s, sys: 28.1 ms, total: 1.74 s\n",
      "Wall time: 1.71 s\n"
     ]
    }
   ],
   "source": [
    "%%time\n",
    "n = 1\n",
    "for k in range(n):\n",
    "    for e in entries.itertuples():\n",
    "        filename = e[1]\n",
    "        if isinstance(e[-1], list):\n",
    "            obs = observables.loc[e[-1], :]"
   ]
  },
  {
   "cell_type": "code",
   "execution_count": 23,
   "metadata": {},
   "outputs": [
    {
     "name": "stdout",
     "output_type": "stream",
     "text": [
      "CPU times: user 452 ms, sys: 0 ns, total: 452 ms\n",
      "Wall time: 452 ms\n"
     ]
    }
   ],
   "source": [
    "%%time\n",
    "n = 1\n",
    "for k in range(n):\n",
    "    for i, r in entries.iterrows():\n",
    "        filename = r['filename']"
   ]
  },
  {
   "cell_type": "code",
   "execution_count": null,
   "metadata": {},
   "outputs": [],
   "source": []
  }
 ],
 "metadata": {
  "anaconda-cloud": {},
  "kernelspec": {
   "display_name": "Python 3",
   "language": "python",
   "name": "python3"
  },
  "language_info": {
   "codemirror_mode": {
    "name": "ipython",
    "version": 3
   },
   "file_extension": ".py",
   "mimetype": "text/x-python",
   "name": "python",
   "nbconvert_exporter": "python",
   "pygments_lexer": "ipython3",
   "version": "3.6.9"
  }
 },
 "nbformat": 4,
 "nbformat_minor": 1
}
